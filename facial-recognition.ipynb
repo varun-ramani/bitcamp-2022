{
 "cells": [
  {
   "cell_type": "code",
   "execution_count": 8,
   "metadata": {},
   "outputs": [],
   "source": [
    "import face_recognition\n",
    "\n",
    "#test on multiple faces\n",
    "image = face_recognition.load_image_file(\"theboys.jpg\")\n",
    "face_locations = face_recognition.face_locations(image)\n"
   ]
  },
  {
   "cell_type": "code",
   "execution_count": 6,
   "metadata": {},
   "outputs": [
    {
     "data": {
      "text/plain": [
       "[(955, 1311, 1276, 990), (825, 646, 1093, 379), (617, 1568, 885, 1300)]"
      ]
     },
     "execution_count": 6,
     "metadata": {},
     "output_type": "execute_result"
    }
   ],
   "source": [
    "face_locations"
   ]
  },
  {
   "cell_type": "code",
   "execution_count": 7,
   "metadata": {},
   "outputs": [],
   "source": [
    "# take array of face coordinates and return the index of the largest face\n",
    "def face_selector(faces):\n",
    "    #find the maximum image area from face array\n",
    "    max_area = 0\n",
    "    max_index = 0\n",
    "    for i in range(len(faces)):\n",
    "        x_len = abs(faces[i][2] - faces[i][0])\n",
    "        y_len = abs(faces[i][3] - faces[i][1])\n",
    "        if x_len * y_len > max_area:\n",
    "            max_area = x_len * y_len\n",
    "            max_index = i\n",
    "\n",
    "    return max_index"
   ]
  },
  {
   "cell_type": "code",
   "execution_count": 10,
   "metadata": {},
   "outputs": [],
   "source": [
    "#write generalizable function for finding most recognizable faces xD\n",
    "def find_face(image):\n",
    "    #load image\n",
    "    image = face_recognition.load_image_file(image)\n",
    "    #find faces\n",
    "    face_locations = face_recognition.face_locations(image)\n",
    "    #select face\n",
    "    return face_selector(face_locations)"
   ]
  },
  {
   "cell_type": "code",
   "execution_count": 12,
   "metadata": {},
   "outputs": [
    {
     "name": "stdout",
     "output_type": "stream",
     "text": [
      "<class 'numpy.ndarray'>\n"
     ]
    }
   ],
   "source": [
    "\n",
    "image = face_recognition.load_image_file(\"theboys.jpg\")\n",
    "face_locations = face_recognition.face_locations(image)\n",
    "max_index = face_selector(face_locations)\n",
    "max_face_encoding = face_recognition.face_encodings(image)[max_index]\n",
    "max_face_encoding.tolist()\n",
    "print(type(max_face_encoding))"
   ]
  },
  {
   "cell_type": "markdown",
   "metadata": {},
   "source": [
    "# Natural Language Processing Stuff"
   ]
  },
  {
   "cell_type": "code",
   "execution_count": 1,
   "metadata": {},
   "outputs": [
    {
     "name": "stdout",
     "output_type": "stream",
     "text": [
      "Collecting SpeechRecognition\n",
      "  Downloading SpeechRecognition-3.8.1-py2.py3-none-any.whl (32.8 MB)\n",
      "\u001b[K     |████████████████████████████████| 32.8 MB 234 kB/s eta 0:00:011   |▋                               | 593 kB 8.2 MB/s eta 0:00:04\n",
      "\u001b[?25hInstalling collected packages: SpeechRecognition\n",
      "Successfully installed SpeechRecognition-3.8.1\n"
     ]
    }
   ],
   "source": [
    "!pip3 install requests"
   ]
  },
  {
   "cell_type": "code",
   "execution_count": 17,
   "metadata": {},
   "outputs": [
    {
     "ename": "ModuleNotFoundError",
     "evalue": "No module named 'google.cloud'",
     "output_type": "error",
     "traceback": [
      "\u001b[0;31m---------------------------------------------------------------------------\u001b[0m",
      "\u001b[0;31mModuleNotFoundError\u001b[0m                       Traceback (most recent call last)",
      "\u001b[1;32m/home/andrew/programs/bitcamp-2022/facial-recognition.ipynb Cell 8'\u001b[0m in \u001b[0;36m<cell line: 2>\u001b[0;34m()\u001b[0m\n\u001b[1;32m      <a href='vscode-notebook-cell://wsl%2Bubuntu/home/andrew/programs/bitcamp-2022/facial-recognition.ipynb#ch0000007vscode-remote?line=0'>1</a>\u001b[0m \u001b[39m# Imports the Google Cloud client library\u001b[39;00m\n\u001b[0;32m----> <a href='vscode-notebook-cell://wsl%2Bubuntu/home/andrew/programs/bitcamp-2022/facial-recognition.ipynb#ch0000007vscode-remote?line=1'>2</a>\u001b[0m \u001b[39mfrom\u001b[39;00m \u001b[39mgoogle\u001b[39;00m\u001b[39m.\u001b[39;00m\u001b[39mcloud\u001b[39;00m \u001b[39mimport\u001b[39;00m speech\n\u001b[1;32m      <a href='vscode-notebook-cell://wsl%2Bubuntu/home/andrew/programs/bitcamp-2022/facial-recognition.ipynb#ch0000007vscode-remote?line=3'>4</a>\u001b[0m \u001b[39m# Instantiates a client\u001b[39;00m\n\u001b[1;32m      <a href='vscode-notebook-cell://wsl%2Bubuntu/home/andrew/programs/bitcamp-2022/facial-recognition.ipynb#ch0000007vscode-remote?line=4'>5</a>\u001b[0m client \u001b[39m=\u001b[39m speech\u001b[39m.\u001b[39mSpeechClient()\n",
      "\u001b[0;31mModuleNotFoundError\u001b[0m: No module named 'google.cloud'"
     ]
    }
   ],
   "source": [
    "# Imports the Google Cloud client library\n",
    "from google.cloud import speech\n",
    "\n",
    "# Instantiates a client\n",
    "client = speech.SpeechClient()\n",
    "\n",
    "# The name of the audio file to transcribe\n",
    "gcs_uri = \"test.mp3\"\n",
    "\n",
    "audio = speech.RecognitionAudio(uri=gcs_uri)\n",
    "\n",
    "config = speech.RecognitionConfig(\n",
    "    encoding=speech.RecognitionConfig.AudioEncoding.LINEAR16,\n",
    "    sample_rate_hertz=16000,\n",
    "    language_code=\"en-US\",\n",
    ")\n",
    "\n",
    "# Detects speech in the audio file\n",
    "response = client.recognize(config=config, audio=audio)\n",
    "\n",
    "for result in response.results:\n",
    "    print(\"Transcript: {}\".format(result.alternatives[0].transcript))"
   ]
  }
 ],
 "metadata": {
  "interpreter": {
   "hash": "59347453560fcad106dfd147cccf8631e96021aa7abe1bdc27320f4949086d3f"
  },
  "kernelspec": {
   "display_name": "Python 3.9.7 ('base')",
   "language": "python",
   "name": "python3"
  },
  "language_info": {
   "codemirror_mode": {
    "name": "ipython",
    "version": 3
   },
   "file_extension": ".py",
   "mimetype": "text/x-python",
   "name": "python",
   "nbconvert_exporter": "python",
   "pygments_lexer": "ipython3",
   "version": "3.8.10"
  },
  "orig_nbformat": 4
 },
 "nbformat": 4,
 "nbformat_minor": 2
}
