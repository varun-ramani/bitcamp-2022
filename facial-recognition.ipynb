{
 "cells": [
  {
   "cell_type": "code",
   "execution_count": 14,
   "metadata": {},
   "outputs": [],
   "source": [
    "import face_recognition\n",
    "\n",
    "#test on multiple faces\n",
    "image = face_recognition.load_image_file(\"theboys.jpg\")\n",
    "face_locations = face_recognition.face_locations(image)\n"
   ]
  },
  {
   "cell_type": "code",
   "execution_count": 15,
   "metadata": {},
   "outputs": [
    {
     "data": {
      "text/plain": [
       "[(955, 1311, 1276, 990), (825, 646, 1093, 379), (617, 1568, 885, 1300)]"
      ]
     },
     "execution_count": 15,
     "metadata": {},
     "output_type": "execute_result"
    }
   ],
   "source": [
    "face_locations"
   ]
  },
  {
   "cell_type": "code",
   "execution_count": 16,
   "metadata": {},
   "outputs": [],
   "source": [
    "# take array of face coordinates and return the index of the largest face\n",
    "def face_selector(faces):\n",
    "    #find the maximum image area from face array\n",
    "    max_area = 0\n",
    "    max_index = 0\n",
    "    for i in range(len(faces)):\n",
    "        x_len = abs(faces[i][2] - faces[i][0])\n",
    "        y_len = abs(faces[i][3] - faces[i][1])\n",
    "        if x_len * y_len > max_area:\n",
    "            max_area = x_len * y_len\n",
    "            max_index = i\n",
    "\n",
    "    return max_index"
   ]
  },
  {
   "cell_type": "code",
   "execution_count": 17,
   "metadata": {},
   "outputs": [],
   "source": [
    "#write generalizable function for finding most recognizable faces xD\n",
    "def find_face(image):\n",
    "    #load image\n",
    "    image = face_recognition.load_image_file(image)\n",
    "    #find faces\n",
    "    face_locations = face_recognition.face_locations(image)\n",
    "    #select face\n",
    "    return face_selector(face_locations)"
   ]
  },
  {
   "cell_type": "code",
   "execution_count": 18,
   "metadata": {},
   "outputs": [
    {
     "name": "stdout",
     "output_type": "stream",
     "text": [
      "<class 'numpy.ndarray'>\n"
     ]
    }
   ],
   "source": [
    "\n",
    "image = face_recognition.load_image_file(\"theboys.jpg\")\n",
    "face_locations = face_recognition.face_locations(image)\n",
    "max_index = face_selector(face_locations)\n",
    "max_face_encoding = face_recognition.face_encodings(image)[max_index]\n",
    "max_face_encoding.tolist()\n",
    "print(type(max_face_encoding))"
   ]
  },
  {
   "cell_type": "markdown",
   "metadata": {},
   "source": [
    "# Natural Language Processing Stuff"
   ]
  },
  {
   "cell_type": "code",
   "execution_count": 19,
   "metadata": {},
   "outputs": [
    {
     "name": "stdout",
     "output_type": "stream",
     "text": [
      "Requirement already satisfied: requests in /usr/lib/python3/dist-packages (2.22.0)\n"
     ]
    }
   ],
   "source": [
    "!pip3 install requests"
   ]
  },
  {
   "cell_type": "code",
   "execution_count": 27,
   "metadata": {},
   "outputs": [],
   "source": [
    "!export GOOGLE_APPLICATION_CREDENTIALS=\"~/programs/bitcamp-2022/service-account-file.json\""
   ]
  },
  {
   "cell_type": "code",
   "execution_count": 37,
   "metadata": {},
   "outputs": [
    {
     "name": "stdout",
     "output_type": "stream",
     "text": [
      "Credendtials from environ: service-account-file.json\n"
     ]
    },
    {
     "ename": "InvalidArgument",
     "evalue": "400 Audio URI `test.mp3` is an invalid GCS path.",
     "output_type": "error",
     "traceback": [
      "\u001b[0;31m---------------------------------------------------------------------------\u001b[0m",
      "\u001b[0;31m_InactiveRpcError\u001b[0m                         Traceback (most recent call last)",
      "File \u001b[0;32m~/.local/lib/python3.8/site-packages/google/api_core/grpc_helpers.py:66\u001b[0m, in \u001b[0;36m_wrap_unary_errors.<locals>.error_remapped_callable\u001b[0;34m(*args, **kwargs)\u001b[0m\n\u001b[1;32m     <a href='file:///home/andrew/.local/lib/python3.8/site-packages/google/api_core/grpc_helpers.py?line=64'>65</a>\u001b[0m \u001b[39mtry\u001b[39;00m:\n\u001b[0;32m---> <a href='file:///home/andrew/.local/lib/python3.8/site-packages/google/api_core/grpc_helpers.py?line=65'>66</a>\u001b[0m     \u001b[39mreturn\u001b[39;00m callable_(\u001b[39m*\u001b[39;49margs, \u001b[39m*\u001b[39;49m\u001b[39m*\u001b[39;49mkwargs)\n\u001b[1;32m     <a href='file:///home/andrew/.local/lib/python3.8/site-packages/google/api_core/grpc_helpers.py?line=66'>67</a>\u001b[0m \u001b[39mexcept\u001b[39;00m grpc\u001b[39m.\u001b[39mRpcError \u001b[39mas\u001b[39;00m exc:\n",
      "File \u001b[0;32m~/.local/lib/python3.8/site-packages/grpc/_channel.py:946\u001b[0m, in \u001b[0;36m_UnaryUnaryMultiCallable.__call__\u001b[0;34m(self, request, timeout, metadata, credentials, wait_for_ready, compression)\u001b[0m\n\u001b[1;32m    <a href='file:///home/andrew/.local/lib/python3.8/site-packages/grpc/_channel.py?line=943'>944</a>\u001b[0m state, call, \u001b[39m=\u001b[39m \u001b[39mself\u001b[39m\u001b[39m.\u001b[39m_blocking(request, timeout, metadata, credentials,\n\u001b[1;32m    <a href='file:///home/andrew/.local/lib/python3.8/site-packages/grpc/_channel.py?line=944'>945</a>\u001b[0m                               wait_for_ready, compression)\n\u001b[0;32m--> <a href='file:///home/andrew/.local/lib/python3.8/site-packages/grpc/_channel.py?line=945'>946</a>\u001b[0m \u001b[39mreturn\u001b[39;00m _end_unary_response_blocking(state, call, \u001b[39mFalse\u001b[39;49;00m, \u001b[39mNone\u001b[39;49;00m)\n",
      "File \u001b[0;32m~/.local/lib/python3.8/site-packages/grpc/_channel.py:849\u001b[0m, in \u001b[0;36m_end_unary_response_blocking\u001b[0;34m(state, call, with_call, deadline)\u001b[0m\n\u001b[1;32m    <a href='file:///home/andrew/.local/lib/python3.8/site-packages/grpc/_channel.py?line=847'>848</a>\u001b[0m \u001b[39melse\u001b[39;00m:\n\u001b[0;32m--> <a href='file:///home/andrew/.local/lib/python3.8/site-packages/grpc/_channel.py?line=848'>849</a>\u001b[0m     \u001b[39mraise\u001b[39;00m _InactiveRpcError(state)\n",
      "\u001b[0;31m_InactiveRpcError\u001b[0m: <_InactiveRpcError of RPC that terminated with:\n\tstatus = StatusCode.INVALID_ARGUMENT\n\tdetails = \"Audio URI `test.mp3` is an invalid GCS path.\"\n\tdebug_error_string = \"{\"created\":\"@1649527647.166658184\",\"description\":\"Error received from peer ipv4:142.250.189.138:443\",\"file\":\"src/core/lib/surface/call.cc\",\"file_line\":903,\"grpc_message\":\"Audio URI `test.mp3` is an invalid GCS path.\",\"grpc_status\":3}\"\n>",
      "\nThe above exception was the direct cause of the following exception:\n",
      "\u001b[0;31mInvalidArgument\u001b[0m                           Traceback (most recent call last)",
      "\u001b[1;32m/home/andrew/programs/bitcamp-2022/facial-recognition.ipynb Cell 9'\u001b[0m in \u001b[0;36m<cell line: 24>\u001b[0;34m()\u001b[0m\n\u001b[1;32m     <a href='vscode-notebook-cell://wsl%2Bubuntu/home/andrew/programs/bitcamp-2022/facial-recognition.ipynb#ch0000007vscode-remote?line=16'>17</a>\u001b[0m config \u001b[39m=\u001b[39m speech\u001b[39m.\u001b[39mRecognitionConfig(\n\u001b[1;32m     <a href='vscode-notebook-cell://wsl%2Bubuntu/home/andrew/programs/bitcamp-2022/facial-recognition.ipynb#ch0000007vscode-remote?line=17'>18</a>\u001b[0m     encoding\u001b[39m=\u001b[39mspeech\u001b[39m.\u001b[39mRecognitionConfig\u001b[39m.\u001b[39mAudioEncoding\u001b[39m.\u001b[39mLINEAR16,\n\u001b[1;32m     <a href='vscode-notebook-cell://wsl%2Bubuntu/home/andrew/programs/bitcamp-2022/facial-recognition.ipynb#ch0000007vscode-remote?line=18'>19</a>\u001b[0m     sample_rate_hertz\u001b[39m=\u001b[39m\u001b[39m16000\u001b[39m,\n\u001b[1;32m     <a href='vscode-notebook-cell://wsl%2Bubuntu/home/andrew/programs/bitcamp-2022/facial-recognition.ipynb#ch0000007vscode-remote?line=19'>20</a>\u001b[0m     language_code\u001b[39m=\u001b[39m\u001b[39m\"\u001b[39m\u001b[39men-US\u001b[39m\u001b[39m\"\u001b[39m,\n\u001b[1;32m     <a href='vscode-notebook-cell://wsl%2Bubuntu/home/andrew/programs/bitcamp-2022/facial-recognition.ipynb#ch0000007vscode-remote?line=20'>21</a>\u001b[0m )\n\u001b[1;32m     <a href='vscode-notebook-cell://wsl%2Bubuntu/home/andrew/programs/bitcamp-2022/facial-recognition.ipynb#ch0000007vscode-remote?line=22'>23</a>\u001b[0m \u001b[39m# Detects speech in the audio file\u001b[39;00m\n\u001b[0;32m---> <a href='vscode-notebook-cell://wsl%2Bubuntu/home/andrew/programs/bitcamp-2022/facial-recognition.ipynb#ch0000007vscode-remote?line=23'>24</a>\u001b[0m response \u001b[39m=\u001b[39m client\u001b[39m.\u001b[39;49mrecognize(config\u001b[39m=\u001b[39;49mconfig, audio\u001b[39m=\u001b[39;49maudio)\n\u001b[1;32m     <a href='vscode-notebook-cell://wsl%2Bubuntu/home/andrew/programs/bitcamp-2022/facial-recognition.ipynb#ch0000007vscode-remote?line=25'>26</a>\u001b[0m \u001b[39mfor\u001b[39;00m result \u001b[39min\u001b[39;00m response\u001b[39m.\u001b[39mresults:\n\u001b[1;32m     <a href='vscode-notebook-cell://wsl%2Bubuntu/home/andrew/programs/bitcamp-2022/facial-recognition.ipynb#ch0000007vscode-remote?line=26'>27</a>\u001b[0m     \u001b[39mprint\u001b[39m(\u001b[39m\"\u001b[39m\u001b[39mTranscript: \u001b[39m\u001b[39m{}\u001b[39;00m\u001b[39m\"\u001b[39m\u001b[39m.\u001b[39mformat(result\u001b[39m.\u001b[39malternatives[\u001b[39m0\u001b[39m]\u001b[39m.\u001b[39mtranscript))\n",
      "File \u001b[0;32m~/.local/lib/python3.8/site-packages/google/cloud/speech_v1/services/speech/client.py:519\u001b[0m, in \u001b[0;36mSpeechClient.recognize\u001b[0;34m(self, request, config, audio, retry, timeout, metadata)\u001b[0m\n\u001b[1;32m    <a href='file:///home/andrew/.local/lib/python3.8/site-packages/google/cloud/speech_v1/services/speech/client.py?line=515'>516</a>\u001b[0m rpc \u001b[39m=\u001b[39m \u001b[39mself\u001b[39m\u001b[39m.\u001b[39m_transport\u001b[39m.\u001b[39m_wrapped_methods[\u001b[39mself\u001b[39m\u001b[39m.\u001b[39m_transport\u001b[39m.\u001b[39mrecognize]\n\u001b[1;32m    <a href='file:///home/andrew/.local/lib/python3.8/site-packages/google/cloud/speech_v1/services/speech/client.py?line=517'>518</a>\u001b[0m \u001b[39m# Send the request.\u001b[39;00m\n\u001b[0;32m--> <a href='file:///home/andrew/.local/lib/python3.8/site-packages/google/cloud/speech_v1/services/speech/client.py?line=518'>519</a>\u001b[0m response \u001b[39m=\u001b[39m rpc(request, retry\u001b[39m=\u001b[39;49mretry, timeout\u001b[39m=\u001b[39;49mtimeout, metadata\u001b[39m=\u001b[39;49mmetadata,)\n\u001b[1;32m    <a href='file:///home/andrew/.local/lib/python3.8/site-packages/google/cloud/speech_v1/services/speech/client.py?line=520'>521</a>\u001b[0m \u001b[39m# Done; return the response.\u001b[39;00m\n\u001b[1;32m    <a href='file:///home/andrew/.local/lib/python3.8/site-packages/google/cloud/speech_v1/services/speech/client.py?line=521'>522</a>\u001b[0m \u001b[39mreturn\u001b[39;00m response\n",
      "File \u001b[0;32m~/.local/lib/python3.8/site-packages/google/api_core/gapic_v1/method.py:154\u001b[0m, in \u001b[0;36m_GapicCallable.__call__\u001b[0;34m(self, timeout, retry, *args, **kwargs)\u001b[0m\n\u001b[1;32m    <a href='file:///home/andrew/.local/lib/python3.8/site-packages/google/api_core/gapic_v1/method.py?line=150'>151</a>\u001b[0m     metadata\u001b[39m.\u001b[39mextend(\u001b[39mself\u001b[39m\u001b[39m.\u001b[39m_metadata)\n\u001b[1;32m    <a href='file:///home/andrew/.local/lib/python3.8/site-packages/google/api_core/gapic_v1/method.py?line=151'>152</a>\u001b[0m     kwargs[\u001b[39m\"\u001b[39m\u001b[39mmetadata\u001b[39m\u001b[39m\"\u001b[39m] \u001b[39m=\u001b[39m metadata\n\u001b[0;32m--> <a href='file:///home/andrew/.local/lib/python3.8/site-packages/google/api_core/gapic_v1/method.py?line=153'>154</a>\u001b[0m \u001b[39mreturn\u001b[39;00m wrapped_func(\u001b[39m*\u001b[39;49margs, \u001b[39m*\u001b[39;49m\u001b[39m*\u001b[39;49mkwargs)\n",
      "File \u001b[0;32m~/.local/lib/python3.8/site-packages/google/api_core/retry.py:283\u001b[0m, in \u001b[0;36mRetry.__call__.<locals>.retry_wrapped_func\u001b[0;34m(*args, **kwargs)\u001b[0m\n\u001b[1;32m    <a href='file:///home/andrew/.local/lib/python3.8/site-packages/google/api_core/retry.py?line=278'>279</a>\u001b[0m target \u001b[39m=\u001b[39m functools\u001b[39m.\u001b[39mpartial(func, \u001b[39m*\u001b[39margs, \u001b[39m*\u001b[39m\u001b[39m*\u001b[39mkwargs)\n\u001b[1;32m    <a href='file:///home/andrew/.local/lib/python3.8/site-packages/google/api_core/retry.py?line=279'>280</a>\u001b[0m sleep_generator \u001b[39m=\u001b[39m exponential_sleep_generator(\n\u001b[1;32m    <a href='file:///home/andrew/.local/lib/python3.8/site-packages/google/api_core/retry.py?line=280'>281</a>\u001b[0m     \u001b[39mself\u001b[39m\u001b[39m.\u001b[39m_initial, \u001b[39mself\u001b[39m\u001b[39m.\u001b[39m_maximum, multiplier\u001b[39m=\u001b[39m\u001b[39mself\u001b[39m\u001b[39m.\u001b[39m_multiplier\n\u001b[1;32m    <a href='file:///home/andrew/.local/lib/python3.8/site-packages/google/api_core/retry.py?line=281'>282</a>\u001b[0m )\n\u001b[0;32m--> <a href='file:///home/andrew/.local/lib/python3.8/site-packages/google/api_core/retry.py?line=282'>283</a>\u001b[0m \u001b[39mreturn\u001b[39;00m retry_target(\n\u001b[1;32m    <a href='file:///home/andrew/.local/lib/python3.8/site-packages/google/api_core/retry.py?line=283'>284</a>\u001b[0m     target,\n\u001b[1;32m    <a href='file:///home/andrew/.local/lib/python3.8/site-packages/google/api_core/retry.py?line=284'>285</a>\u001b[0m     \u001b[39mself\u001b[39;49m\u001b[39m.\u001b[39;49m_predicate,\n\u001b[1;32m    <a href='file:///home/andrew/.local/lib/python3.8/site-packages/google/api_core/retry.py?line=285'>286</a>\u001b[0m     sleep_generator,\n\u001b[1;32m    <a href='file:///home/andrew/.local/lib/python3.8/site-packages/google/api_core/retry.py?line=286'>287</a>\u001b[0m     \u001b[39mself\u001b[39;49m\u001b[39m.\u001b[39;49m_deadline,\n\u001b[1;32m    <a href='file:///home/andrew/.local/lib/python3.8/site-packages/google/api_core/retry.py?line=287'>288</a>\u001b[0m     on_error\u001b[39m=\u001b[39;49mon_error,\n\u001b[1;32m    <a href='file:///home/andrew/.local/lib/python3.8/site-packages/google/api_core/retry.py?line=288'>289</a>\u001b[0m )\n",
      "File \u001b[0;32m~/.local/lib/python3.8/site-packages/google/api_core/retry.py:190\u001b[0m, in \u001b[0;36mretry_target\u001b[0;34m(target, predicate, sleep_generator, deadline, on_error)\u001b[0m\n\u001b[1;32m    <a href='file:///home/andrew/.local/lib/python3.8/site-packages/google/api_core/retry.py?line=187'>188</a>\u001b[0m \u001b[39mfor\u001b[39;00m sleep \u001b[39min\u001b[39;00m sleep_generator:\n\u001b[1;32m    <a href='file:///home/andrew/.local/lib/python3.8/site-packages/google/api_core/retry.py?line=188'>189</a>\u001b[0m     \u001b[39mtry\u001b[39;00m:\n\u001b[0;32m--> <a href='file:///home/andrew/.local/lib/python3.8/site-packages/google/api_core/retry.py?line=189'>190</a>\u001b[0m         \u001b[39mreturn\u001b[39;00m target()\n\u001b[1;32m    <a href='file:///home/andrew/.local/lib/python3.8/site-packages/google/api_core/retry.py?line=191'>192</a>\u001b[0m     \u001b[39m# pylint: disable=broad-except\u001b[39;00m\n\u001b[1;32m    <a href='file:///home/andrew/.local/lib/python3.8/site-packages/google/api_core/retry.py?line=192'>193</a>\u001b[0m     \u001b[39m# This function explicitly must deal with broad exceptions.\u001b[39;00m\n\u001b[1;32m    <a href='file:///home/andrew/.local/lib/python3.8/site-packages/google/api_core/retry.py?line=193'>194</a>\u001b[0m     \u001b[39mexcept\u001b[39;00m \u001b[39mException\u001b[39;00m \u001b[39mas\u001b[39;00m exc:\n",
      "File \u001b[0;32m~/.local/lib/python3.8/site-packages/google/api_core/grpc_helpers.py:68\u001b[0m, in \u001b[0;36m_wrap_unary_errors.<locals>.error_remapped_callable\u001b[0;34m(*args, **kwargs)\u001b[0m\n\u001b[1;32m     <a href='file:///home/andrew/.local/lib/python3.8/site-packages/google/api_core/grpc_helpers.py?line=65'>66</a>\u001b[0m     \u001b[39mreturn\u001b[39;00m callable_(\u001b[39m*\u001b[39margs, \u001b[39m*\u001b[39m\u001b[39m*\u001b[39mkwargs)\n\u001b[1;32m     <a href='file:///home/andrew/.local/lib/python3.8/site-packages/google/api_core/grpc_helpers.py?line=66'>67</a>\u001b[0m \u001b[39mexcept\u001b[39;00m grpc\u001b[39m.\u001b[39mRpcError \u001b[39mas\u001b[39;00m exc:\n\u001b[0;32m---> <a href='file:///home/andrew/.local/lib/python3.8/site-packages/google/api_core/grpc_helpers.py?line=67'>68</a>\u001b[0m     \u001b[39mraise\u001b[39;00m exceptions\u001b[39m.\u001b[39mfrom_grpc_error(exc) \u001b[39mfrom\u001b[39;00m \u001b[39mexc\u001b[39;00m\n",
      "\u001b[0;31mInvalidArgument\u001b[0m: 400 Audio URI `test.mp3` is an invalid GCS path."
     ]
    }
   ],
   "source": [
    "# Imports the Google Cloud client library\n",
    "from google.cloud import speech\n",
    "\n",
    "import os\n",
    "os.environ['GOOGLE_APPLICATION_CREDENTIALS'] = 'service-account-file.json'\n",
    "print('Credendtials from environ: {}'.format(os.environ.get('GOOGLE_APPLICATION_CREDENTIALS')))\n",
    "\n",
    "# Instantiates a client\n",
    "client = speech.SpeechClient()\n",
    "#print(\"steve\")\n",
    "\n",
    "# The name of the audio file to transcribe\n",
    "gcs_uri = \"test.mp3\"\n",
    "\n",
    "audio = speech.RecognitionAudio(uri=gcs_uri)\n",
    "\n",
    "config = speech.RecognitionConfig(\n",
    "    encoding=speech.RecognitionConfig.AudioEncoding.LINEAR16,\n",
    "    sample_rate_hertz=16000,\n",
    "    language_code=\"en-US\",\n",
    ")\n",
    "\n",
    "# Detects speech in the audio file\n",
    "response = client.recognize(config=config, audio=audio)\n",
    "\n",
    "for result in response.results:\n",
    "    print(\"Transcript: {}\".format(result.alternatives[0].transcript))"
   ]
  },
  {
   "cell_type": "code",
   "execution_count": null,
   "metadata": {},
   "outputs": [],
   "source": []
  }
 ],
 "metadata": {
  "interpreter": {
   "hash": "59347453560fcad106dfd147cccf8631e96021aa7abe1bdc27320f4949086d3f"
  },
  "kernelspec": {
   "display_name": "Python 3.9.7 ('base')",
   "language": "python",
   "name": "python3"
  },
  "language_info": {
   "codemirror_mode": {
    "name": "ipython",
    "version": 3
   },
   "file_extension": ".py",
   "mimetype": "text/x-python",
   "name": "python",
   "nbconvert_exporter": "python",
   "pygments_lexer": "ipython3",
   "version": "3.8.10"
  },
  "orig_nbformat": 4
 },
 "nbformat": 4,
 "nbformat_minor": 2
}
