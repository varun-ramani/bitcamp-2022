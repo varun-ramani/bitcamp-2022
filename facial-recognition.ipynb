{
 "cells": [
  {
   "cell_type": "code",
   "execution_count": 8,
   "metadata": {},
   "outputs": [],
   "source": [
    "import face_recognition\n",
    "\n",
    "#test on multiple faces\n",
    "image = face_recognition.load_image_file(\"theboys.jpg\")\n",
    "face_locations = face_recognition.face_locations(image)\n"
   ]
  },
  {
   "cell_type": "code",
   "execution_count": 6,
   "metadata": {},
   "outputs": [
    {
     "data": {
      "text/plain": [
       "[(955, 1311, 1276, 990), (825, 646, 1093, 379), (617, 1568, 885, 1300)]"
      ]
     },
     "execution_count": 6,
     "metadata": {},
     "output_type": "execute_result"
    }
   ],
   "source": [
    "face_locations"
   ]
  },
  {
   "cell_type": "code",
   "execution_count": 7,
   "metadata": {},
   "outputs": [],
   "source": [
    "# take array of face coordinates and return the index of the largest face\n",
    "def face_selector(faces):\n",
    "    #find the maximum image area from face array\n",
    "    max_area = 0\n",
    "    max_index = 0\n",
    "    for i in range(len(faces)):\n",
    "        x_len = abs(faces[i][2] - faces[i][0])\n",
    "        y_len = abs(faces[i][3] - faces[i][1])\n",
    "        if x_len * y_len > max_area:\n",
    "            max_area = x_len * y_len\n",
    "            max_index = i\n",
    "\n",
    "    return max_index"
   ]
  },
  {
   "cell_type": "code",
   "execution_count": 10,
   "metadata": {},
   "outputs": [],
   "source": [
    "#write generalizable function for finding most recognizable faces xD\n",
    "def find_face(image):\n",
    "    #load image\n",
    "    image = face_recognition.load_image_file(image)\n",
    "    #find faces\n",
    "    face_locations = face_recognition.face_locations(image)\n",
    "    #select face\n",
    "    return face_selector(face_locations)"
   ]
  },
  {
   "cell_type": "code",
   "execution_count": 12,
   "metadata": {},
   "outputs": [
    {
     "name": "stdout",
     "output_type": "stream",
     "text": [
      "<class 'numpy.ndarray'>\n"
     ]
    }
   ],
   "source": [
    "\n",
    "image = face_recognition.load_image_file(\"theboys.jpg\")\n",
    "face_locations = face_recognition.face_locations(image)\n",
    "max_index = face_selector(face_locations)\n",
    "max_face_encoding = face_recognition.face_encodings(image)[max_index]\n",
    "max_face_encoding.tolist()\n",
    "print(type(max_face_encoding))"
   ]
  },
  {
   "cell_type": "markdown",
   "metadata": {},
   "source": [
    "# Natural Language Processing Stuff"
   ]
  },
  {
   "cell_type": "code",
   "execution_count": 1,
   "metadata": {},
   "outputs": [
    {
     "name": "stdout",
     "output_type": "stream",
     "text": [
      "Collecting SpeechRecognition\n",
      "  Downloading SpeechRecognition-3.8.1-py2.py3-none-any.whl (32.8 MB)\n",
      "\u001b[K     |████████████████████████████████| 32.8 MB 234 kB/s eta 0:00:011   |▋                               | 593 kB 8.2 MB/s eta 0:00:04\n",
      "\u001b[?25hInstalling collected packages: SpeechRecognition\n",
      "Successfully installed SpeechRecognition-3.8.1\n"
     ]
    }
   ],
   "source": [
    "!pip3 install requests"
   ]
  },
  {
   "cell_type": "code",
   "execution_count": 2,
   "metadata": {},
   "outputs": [
    {
     "ename": "DefaultCredentialsError",
     "evalue": "Could not automatically determine credentials. Please set GOOGLE_APPLICATION_CREDENTIALS or explicitly create credentials and re-run the application. For more information, please see https://cloud.google.com/docs/authentication/getting-started",
     "output_type": "error",
     "traceback": [
      "\u001b[0;31m---------------------------------------------------------------------------\u001b[0m",
      "\u001b[0;31mDefaultCredentialsError\u001b[0m                   Traceback (most recent call last)",
      "\u001b[1;32m/home/andrew/programs/bitcamp-2022/facial-recognition.ipynb Cell 8'\u001b[0m in \u001b[0;36m<cell line: 5>\u001b[0;34m()\u001b[0m\n\u001b[1;32m      <a href='vscode-notebook-cell://wsl%2Bubuntu/home/andrew/programs/bitcamp-2022/facial-recognition.ipynb#ch0000007vscode-remote?line=1'>2</a>\u001b[0m \u001b[39mfrom\u001b[39;00m \u001b[39mgoogle\u001b[39;00m\u001b[39m.\u001b[39;00m\u001b[39mcloud\u001b[39;00m \u001b[39mimport\u001b[39;00m speech\n\u001b[1;32m      <a href='vscode-notebook-cell://wsl%2Bubuntu/home/andrew/programs/bitcamp-2022/facial-recognition.ipynb#ch0000007vscode-remote?line=3'>4</a>\u001b[0m \u001b[39m# Instantiates a client\u001b[39;00m\n\u001b[0;32m----> <a href='vscode-notebook-cell://wsl%2Bubuntu/home/andrew/programs/bitcamp-2022/facial-recognition.ipynb#ch0000007vscode-remote?line=4'>5</a>\u001b[0m client \u001b[39m=\u001b[39m speech\u001b[39m.\u001b[39;49mSpeechClient()\n\u001b[1;32m      <a href='vscode-notebook-cell://wsl%2Bubuntu/home/andrew/programs/bitcamp-2022/facial-recognition.ipynb#ch0000007vscode-remote?line=6'>7</a>\u001b[0m \u001b[39m# The name of the audio file to transcribe\u001b[39;00m\n\u001b[1;32m      <a href='vscode-notebook-cell://wsl%2Bubuntu/home/andrew/programs/bitcamp-2022/facial-recognition.ipynb#ch0000007vscode-remote?line=7'>8</a>\u001b[0m gcs_uri \u001b[39m=\u001b[39m \u001b[39m\"\u001b[39m\u001b[39mtest.mp3\u001b[39m\u001b[39m\"\u001b[39m\n",
      "File \u001b[0;32m~/.local/lib/python3.8/site-packages/google/cloud/speech_v1/services/speech/client.py:408\u001b[0m, in \u001b[0;36mSpeechClient.__init__\u001b[0;34m(self, credentials, transport, client_options, client_info)\u001b[0m\n\u001b[1;32m    <a href='file:///home/andrew/.local/lib/python3.8/site-packages/google/cloud/speech_v1/services/speech/client.py?line=402'>403</a>\u001b[0m     credentials \u001b[39m=\u001b[39m google\u001b[39m.\u001b[39mauth\u001b[39m.\u001b[39m_default\u001b[39m.\u001b[39mget_api_key_credentials(\n\u001b[1;32m    <a href='file:///home/andrew/.local/lib/python3.8/site-packages/google/cloud/speech_v1/services/speech/client.py?line=403'>404</a>\u001b[0m         api_key_value\n\u001b[1;32m    <a href='file:///home/andrew/.local/lib/python3.8/site-packages/google/cloud/speech_v1/services/speech/client.py?line=404'>405</a>\u001b[0m     )\n\u001b[1;32m    <a href='file:///home/andrew/.local/lib/python3.8/site-packages/google/cloud/speech_v1/services/speech/client.py?line=406'>407</a>\u001b[0m Transport \u001b[39m=\u001b[39m \u001b[39mtype\u001b[39m(\u001b[39mself\u001b[39m)\u001b[39m.\u001b[39mget_transport_class(transport)\n\u001b[0;32m--> <a href='file:///home/andrew/.local/lib/python3.8/site-packages/google/cloud/speech_v1/services/speech/client.py?line=407'>408</a>\u001b[0m \u001b[39mself\u001b[39m\u001b[39m.\u001b[39m_transport \u001b[39m=\u001b[39m Transport(\n\u001b[1;32m    <a href='file:///home/andrew/.local/lib/python3.8/site-packages/google/cloud/speech_v1/services/speech/client.py?line=408'>409</a>\u001b[0m     credentials\u001b[39m=\u001b[39;49mcredentials,\n\u001b[1;32m    <a href='file:///home/andrew/.local/lib/python3.8/site-packages/google/cloud/speech_v1/services/speech/client.py?line=409'>410</a>\u001b[0m     credentials_file\u001b[39m=\u001b[39;49mclient_options\u001b[39m.\u001b[39;49mcredentials_file,\n\u001b[1;32m    <a href='file:///home/andrew/.local/lib/python3.8/site-packages/google/cloud/speech_v1/services/speech/client.py?line=410'>411</a>\u001b[0m     host\u001b[39m=\u001b[39;49mapi_endpoint,\n\u001b[1;32m    <a href='file:///home/andrew/.local/lib/python3.8/site-packages/google/cloud/speech_v1/services/speech/client.py?line=411'>412</a>\u001b[0m     scopes\u001b[39m=\u001b[39;49mclient_options\u001b[39m.\u001b[39;49mscopes,\n\u001b[1;32m    <a href='file:///home/andrew/.local/lib/python3.8/site-packages/google/cloud/speech_v1/services/speech/client.py?line=412'>413</a>\u001b[0m     client_cert_source_for_mtls\u001b[39m=\u001b[39;49mclient_cert_source_func,\n\u001b[1;32m    <a href='file:///home/andrew/.local/lib/python3.8/site-packages/google/cloud/speech_v1/services/speech/client.py?line=413'>414</a>\u001b[0m     quota_project_id\u001b[39m=\u001b[39;49mclient_options\u001b[39m.\u001b[39;49mquota_project_id,\n\u001b[1;32m    <a href='file:///home/andrew/.local/lib/python3.8/site-packages/google/cloud/speech_v1/services/speech/client.py?line=414'>415</a>\u001b[0m     client_info\u001b[39m=\u001b[39;49mclient_info,\n\u001b[1;32m    <a href='file:///home/andrew/.local/lib/python3.8/site-packages/google/cloud/speech_v1/services/speech/client.py?line=415'>416</a>\u001b[0m     always_use_jwt_access\u001b[39m=\u001b[39;49m\u001b[39mTrue\u001b[39;49;00m,\n\u001b[1;32m    <a href='file:///home/andrew/.local/lib/python3.8/site-packages/google/cloud/speech_v1/services/speech/client.py?line=416'>417</a>\u001b[0m )\n",
      "File \u001b[0;32m~/.local/lib/python3.8/site-packages/google/cloud/speech_v1/services/speech/transports/grpc.py:151\u001b[0m, in \u001b[0;36mSpeechGrpcTransport.__init__\u001b[0;34m(self, host, credentials, credentials_file, scopes, channel, api_mtls_endpoint, client_cert_source, ssl_channel_credentials, client_cert_source_for_mtls, quota_project_id, client_info, always_use_jwt_access)\u001b[0m\n\u001b[1;32m    <a href='file:///home/andrew/.local/lib/python3.8/site-packages/google/cloud/speech_v1/services/speech/transports/grpc.py?line=145'>146</a>\u001b[0m             \u001b[39mself\u001b[39m\u001b[39m.\u001b[39m_ssl_channel_credentials \u001b[39m=\u001b[39m grpc\u001b[39m.\u001b[39mssl_channel_credentials(\n\u001b[1;32m    <a href='file:///home/andrew/.local/lib/python3.8/site-packages/google/cloud/speech_v1/services/speech/transports/grpc.py?line=146'>147</a>\u001b[0m                 certificate_chain\u001b[39m=\u001b[39mcert, private_key\u001b[39m=\u001b[39mkey\n\u001b[1;32m    <a href='file:///home/andrew/.local/lib/python3.8/site-packages/google/cloud/speech_v1/services/speech/transports/grpc.py?line=147'>148</a>\u001b[0m             )\n\u001b[1;32m    <a href='file:///home/andrew/.local/lib/python3.8/site-packages/google/cloud/speech_v1/services/speech/transports/grpc.py?line=149'>150</a>\u001b[0m \u001b[39m# The base transport sets the host, credentials and scopes\u001b[39;00m\n\u001b[0;32m--> <a href='file:///home/andrew/.local/lib/python3.8/site-packages/google/cloud/speech_v1/services/speech/transports/grpc.py?line=150'>151</a>\u001b[0m \u001b[39msuper\u001b[39;49m()\u001b[39m.\u001b[39;49m\u001b[39m__init__\u001b[39;49m(\n\u001b[1;32m    <a href='file:///home/andrew/.local/lib/python3.8/site-packages/google/cloud/speech_v1/services/speech/transports/grpc.py?line=151'>152</a>\u001b[0m     host\u001b[39m=\u001b[39;49mhost,\n\u001b[1;32m    <a href='file:///home/andrew/.local/lib/python3.8/site-packages/google/cloud/speech_v1/services/speech/transports/grpc.py?line=152'>153</a>\u001b[0m     credentials\u001b[39m=\u001b[39;49mcredentials,\n\u001b[1;32m    <a href='file:///home/andrew/.local/lib/python3.8/site-packages/google/cloud/speech_v1/services/speech/transports/grpc.py?line=153'>154</a>\u001b[0m     credentials_file\u001b[39m=\u001b[39;49mcredentials_file,\n\u001b[1;32m    <a href='file:///home/andrew/.local/lib/python3.8/site-packages/google/cloud/speech_v1/services/speech/transports/grpc.py?line=154'>155</a>\u001b[0m     scopes\u001b[39m=\u001b[39;49mscopes,\n\u001b[1;32m    <a href='file:///home/andrew/.local/lib/python3.8/site-packages/google/cloud/speech_v1/services/speech/transports/grpc.py?line=155'>156</a>\u001b[0m     quota_project_id\u001b[39m=\u001b[39;49mquota_project_id,\n\u001b[1;32m    <a href='file:///home/andrew/.local/lib/python3.8/site-packages/google/cloud/speech_v1/services/speech/transports/grpc.py?line=156'>157</a>\u001b[0m     client_info\u001b[39m=\u001b[39;49mclient_info,\n\u001b[1;32m    <a href='file:///home/andrew/.local/lib/python3.8/site-packages/google/cloud/speech_v1/services/speech/transports/grpc.py?line=157'>158</a>\u001b[0m     always_use_jwt_access\u001b[39m=\u001b[39;49malways_use_jwt_access,\n\u001b[1;32m    <a href='file:///home/andrew/.local/lib/python3.8/site-packages/google/cloud/speech_v1/services/speech/transports/grpc.py?line=158'>159</a>\u001b[0m )\n\u001b[1;32m    <a href='file:///home/andrew/.local/lib/python3.8/site-packages/google/cloud/speech_v1/services/speech/transports/grpc.py?line=160'>161</a>\u001b[0m \u001b[39mif\u001b[39;00m \u001b[39mnot\u001b[39;00m \u001b[39mself\u001b[39m\u001b[39m.\u001b[39m_grpc_channel:\n\u001b[1;32m    <a href='file:///home/andrew/.local/lib/python3.8/site-packages/google/cloud/speech_v1/services/speech/transports/grpc.py?line=161'>162</a>\u001b[0m     \u001b[39mself\u001b[39m\u001b[39m.\u001b[39m_grpc_channel \u001b[39m=\u001b[39m \u001b[39mtype\u001b[39m(\u001b[39mself\u001b[39m)\u001b[39m.\u001b[39mcreate_channel(\n\u001b[1;32m    <a href='file:///home/andrew/.local/lib/python3.8/site-packages/google/cloud/speech_v1/services/speech/transports/grpc.py?line=162'>163</a>\u001b[0m         \u001b[39mself\u001b[39m\u001b[39m.\u001b[39m_host,\n\u001b[1;32m    <a href='file:///home/andrew/.local/lib/python3.8/site-packages/google/cloud/speech_v1/services/speech/transports/grpc.py?line=163'>164</a>\u001b[0m         \u001b[39m# use the credentials which are saved\u001b[39;00m\n\u001b[0;32m   (...)\u001b[0m\n\u001b[1;32m    <a href='file:///home/andrew/.local/lib/python3.8/site-packages/google/cloud/speech_v1/services/speech/transports/grpc.py?line=174'>175</a>\u001b[0m         ],\n\u001b[1;32m    <a href='file:///home/andrew/.local/lib/python3.8/site-packages/google/cloud/speech_v1/services/speech/transports/grpc.py?line=175'>176</a>\u001b[0m     )\n",
      "File \u001b[0;32m~/.local/lib/python3.8/site-packages/google/cloud/speech_v1/services/speech/transports/base.py:105\u001b[0m, in \u001b[0;36mSpeechTransport.__init__\u001b[0;34m(self, host, credentials, credentials_file, scopes, quota_project_id, client_info, always_use_jwt_access, **kwargs)\u001b[0m\n\u001b[1;32m    <a href='file:///home/andrew/.local/lib/python3.8/site-packages/google/cloud/speech_v1/services/speech/transports/base.py?line=100'>101</a>\u001b[0m     credentials, _ \u001b[39m=\u001b[39m google\u001b[39m.\u001b[39mauth\u001b[39m.\u001b[39mload_credentials_from_file(\n\u001b[1;32m    <a href='file:///home/andrew/.local/lib/python3.8/site-packages/google/cloud/speech_v1/services/speech/transports/base.py?line=101'>102</a>\u001b[0m         credentials_file, \u001b[39m*\u001b[39m\u001b[39m*\u001b[39mscopes_kwargs, quota_project_id\u001b[39m=\u001b[39mquota_project_id\n\u001b[1;32m    <a href='file:///home/andrew/.local/lib/python3.8/site-packages/google/cloud/speech_v1/services/speech/transports/base.py?line=102'>103</a>\u001b[0m     )\n\u001b[1;32m    <a href='file:///home/andrew/.local/lib/python3.8/site-packages/google/cloud/speech_v1/services/speech/transports/base.py?line=103'>104</a>\u001b[0m \u001b[39melif\u001b[39;00m credentials \u001b[39mis\u001b[39;00m \u001b[39mNone\u001b[39;00m:\n\u001b[0;32m--> <a href='file:///home/andrew/.local/lib/python3.8/site-packages/google/cloud/speech_v1/services/speech/transports/base.py?line=104'>105</a>\u001b[0m     credentials, _ \u001b[39m=\u001b[39m google\u001b[39m.\u001b[39;49mauth\u001b[39m.\u001b[39;49mdefault(\n\u001b[1;32m    <a href='file:///home/andrew/.local/lib/python3.8/site-packages/google/cloud/speech_v1/services/speech/transports/base.py?line=105'>106</a>\u001b[0m         \u001b[39m*\u001b[39;49m\u001b[39m*\u001b[39;49mscopes_kwargs, quota_project_id\u001b[39m=\u001b[39;49mquota_project_id\n\u001b[1;32m    <a href='file:///home/andrew/.local/lib/python3.8/site-packages/google/cloud/speech_v1/services/speech/transports/base.py?line=106'>107</a>\u001b[0m     )\n\u001b[1;32m    <a href='file:///home/andrew/.local/lib/python3.8/site-packages/google/cloud/speech_v1/services/speech/transports/base.py?line=108'>109</a>\u001b[0m \u001b[39m# If the credentials are service account credentials, then always try to use self signed JWT.\u001b[39;00m\n\u001b[1;32m    <a href='file:///home/andrew/.local/lib/python3.8/site-packages/google/cloud/speech_v1/services/speech/transports/base.py?line=109'>110</a>\u001b[0m \u001b[39mif\u001b[39;00m (\n\u001b[1;32m    <a href='file:///home/andrew/.local/lib/python3.8/site-packages/google/cloud/speech_v1/services/speech/transports/base.py?line=110'>111</a>\u001b[0m     always_use_jwt_access\n\u001b[1;32m    <a href='file:///home/andrew/.local/lib/python3.8/site-packages/google/cloud/speech_v1/services/speech/transports/base.py?line=111'>112</a>\u001b[0m     \u001b[39mand\u001b[39;00m \u001b[39misinstance\u001b[39m(credentials, service_account\u001b[39m.\u001b[39mCredentials)\n\u001b[1;32m    <a href='file:///home/andrew/.local/lib/python3.8/site-packages/google/cloud/speech_v1/services/speech/transports/base.py?line=112'>113</a>\u001b[0m     \u001b[39mand\u001b[39;00m \u001b[39mhasattr\u001b[39m(service_account\u001b[39m.\u001b[39mCredentials, \u001b[39m\"\u001b[39m\u001b[39mwith_always_use_jwt_access\u001b[39m\u001b[39m\"\u001b[39m)\n\u001b[1;32m    <a href='file:///home/andrew/.local/lib/python3.8/site-packages/google/cloud/speech_v1/services/speech/transports/base.py?line=113'>114</a>\u001b[0m ):\n",
      "File \u001b[0;32m~/.local/lib/python3.8/site-packages/google/auth/_default.py:575\u001b[0m, in \u001b[0;36mdefault\u001b[0;34m(scopes, request, quota_project_id, default_scopes)\u001b[0m\n\u001b[1;32m    <a href='file:///home/andrew/.local/lib/python3.8/site-packages/google/auth/_default.py?line=566'>567</a>\u001b[0m             _LOGGER\u001b[39m.\u001b[39mwarning(\n\u001b[1;32m    <a href='file:///home/andrew/.local/lib/python3.8/site-packages/google/auth/_default.py?line=567'>568</a>\u001b[0m                 \u001b[39m\"\u001b[39m\u001b[39mNo project ID could be determined. Consider running \u001b[39m\u001b[39m\"\u001b[39m\n\u001b[1;32m    <a href='file:///home/andrew/.local/lib/python3.8/site-packages/google/auth/_default.py?line=568'>569</a>\u001b[0m                 \u001b[39m\"\u001b[39m\u001b[39m`gcloud config set project` or setting the \u001b[39m\u001b[39m%s\u001b[39;00m\u001b[39m \u001b[39m\u001b[39m\"\u001b[39m\n\u001b[1;32m    <a href='file:///home/andrew/.local/lib/python3.8/site-packages/google/auth/_default.py?line=569'>570</a>\u001b[0m                 \u001b[39m\"\u001b[39m\u001b[39menvironment variable\u001b[39m\u001b[39m\"\u001b[39m,\n\u001b[1;32m    <a href='file:///home/andrew/.local/lib/python3.8/site-packages/google/auth/_default.py?line=570'>571</a>\u001b[0m                 environment_vars\u001b[39m.\u001b[39mPROJECT,\n\u001b[1;32m    <a href='file:///home/andrew/.local/lib/python3.8/site-packages/google/auth/_default.py?line=571'>572</a>\u001b[0m             )\n\u001b[1;32m    <a href='file:///home/andrew/.local/lib/python3.8/site-packages/google/auth/_default.py?line=572'>573</a>\u001b[0m         \u001b[39mreturn\u001b[39;00m credentials, effective_project_id\n\u001b[0;32m--> <a href='file:///home/andrew/.local/lib/python3.8/site-packages/google/auth/_default.py?line=574'>575</a>\u001b[0m \u001b[39mraise\u001b[39;00m exceptions\u001b[39m.\u001b[39mDefaultCredentialsError(_HELP_MESSAGE)\n",
      "\u001b[0;31mDefaultCredentialsError\u001b[0m: Could not automatically determine credentials. Please set GOOGLE_APPLICATION_CREDENTIALS or explicitly create credentials and re-run the application. For more information, please see https://cloud.google.com/docs/authentication/getting-started"
     ]
    }
   ],
   "source": [
    "# Imports the Google Cloud client library\n",
    "from google.cloud import speech\n",
    "\n",
    "# Instantiates a client\n",
    "client = speech.SpeechClient()\n",
    "\n",
    "# The name of the audio file to transcribe\n",
    "gcs_uri = \"test.mp3\"\n",
    "\n",
    "audio = speech.RecognitionAudio(uri=gcs_uri)\n",
    "\n",
    "config = speech.RecognitionConfig(\n",
    "    encoding=speech.RecognitionConfig.AudioEncoding.LINEAR16,\n",
    "    sample_rate_hertz=16000,\n",
    "    language_code=\"en-US\",\n",
    ")\n",
    "\n",
    "# Detects speech in the audio file\n",
    "response = client.recognize(config=config, audio=audio)\n",
    "\n",
    "for result in response.results:\n",
    "    print(\"Transcript: {}\".format(result.alternatives[0].transcript))"
   ]
  }
 ],
 "metadata": {
  "interpreter": {
   "hash": "59347453560fcad106dfd147cccf8631e96021aa7abe1bdc27320f4949086d3f"
  },
  "kernelspec": {
   "display_name": "Python 3.9.7 ('base')",
   "language": "python",
   "name": "python3"
  },
  "language_info": {
   "codemirror_mode": {
    "name": "ipython",
    "version": 3
   },
   "file_extension": ".py",
   "mimetype": "text/x-python",
   "name": "python",
   "nbconvert_exporter": "python",
   "pygments_lexer": "ipython3",
   "version": "3.8.10"
  },
  "orig_nbformat": 4
 },
 "nbformat": 4,
 "nbformat_minor": 2
}
