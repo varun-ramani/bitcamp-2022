{
 "cells": [
  {
   "cell_type": "code",
   "execution_count": 8,
   "metadata": {},
   "outputs": [],
   "source": [
    "import face_recognition\n",
    "\n",
    "#test on multiple faces\n",
    "image = face_recognition.load_image_file(\"theboys.jpg\")\n",
    "face_locations = face_recognition.face_locations(image)\n"
   ]
  },
  {
   "cell_type": "code",
   "execution_count": 6,
   "metadata": {},
   "outputs": [
    {
     "data": {
      "text/plain": [
       "[(955, 1311, 1276, 990), (825, 646, 1093, 379), (617, 1568, 885, 1300)]"
      ]
     },
     "execution_count": 6,
     "metadata": {},
     "output_type": "execute_result"
    }
   ],
   "source": [
    "face_locations"
   ]
  },
  {
   "cell_type": "code",
   "execution_count": 7,
   "metadata": {},
   "outputs": [],
   "source": [
    "# take array of face coordinates and return the index of the largest face\n",
    "def face_selector(faces):\n",
    "    #find the maximum image area from face array\n",
    "    max_area = 0\n",
    "    max_index = 0\n",
    "    for i in range(len(faces)):\n",
    "        x_len = abs(faces[i][2] - faces[i][0])\n",
    "        y_len = abs(faces[i][3] - faces[i][1])\n",
    "        if x_len * y_len > max_area:\n",
    "            max_area = x_len * y_len\n",
    "            max_index = i\n",
    "\n",
    "    return max_index"
   ]
  },
  {
   "cell_type": "code",
   "execution_count": 10,
   "metadata": {},
   "outputs": [],
   "source": [
    "#write generalizable function for finding most recognizable faces xD\n",
    "def find_face(image):\n",
    "    #load image\n",
    "    image = face_recognition.load_image_file(image)\n",
    "    #find faces\n",
    "    face_locations = face_recognition.face_locations(image)\n",
    "    #select face\n",
    "    return face_selector(face_locations)"
   ]
  },
  {
   "cell_type": "code",
   "execution_count": 12,
   "metadata": {},
   "outputs": [
    {
     "name": "stdout",
     "output_type": "stream",
     "text": [
      "<class 'numpy.ndarray'>\n"
     ]
    }
   ],
   "source": [
    "image = face_recognition.load_image_file(\"theboys.jpg\")\n",
    "face_locations = face_recognition.face_locations(image)\n",
    "max_index = face_selector(face_locations)\n",
    "max_face_encoding = face_recognition.face_encodings(image)[max_index]\n",
    "print(type(max_face_encoding))"
   ]
  },
  {
   "cell_type": "code",
   "execution_count": null,
   "metadata": {},
   "outputs": [],
   "source": []
  }
 ],
 "metadata": {
  "interpreter": {
   "hash": "59347453560fcad106dfd147cccf8631e96021aa7abe1bdc27320f4949086d3f"
  },
  "kernelspec": {
   "display_name": "Python 3.9.7 ('base')",
   "language": "python",
   "name": "python3"
  },
  "language_info": {
   "codemirror_mode": {
    "name": "ipython",
    "version": 3
   },
   "file_extension": ".py",
   "mimetype": "text/x-python",
   "name": "python",
   "nbconvert_exporter": "python",
   "pygments_lexer": "ipython3",
   "version": "3.8.10"
  },
  "orig_nbformat": 4
 },
 "nbformat": 4,
 "nbformat_minor": 2
}
